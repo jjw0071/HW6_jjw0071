{
 "cells": [
  {
   "cell_type": "code",
   "execution_count": 1,
   "id": "dbd7abf7",
   "metadata": {},
   "outputs": [],
   "source": [
    "import csv\n",
    "import matplotlib.pyplot as plt\n",
    "import random as rand\n",
    "\n",
    "def main():\n",
    "    f = open('result.csv','w',newline='')\n",
    "    data = []\n",
    "    writer = csv.writer(f)\n",
    "    for i in range(1,101):\n",
    "        result = []\n",
    "        result.append(rand.randrange(1,7))\n",
    "        data.append(result)\n",
    "        \n",
    "    for i in range(1,1001):\n",
    "        result = []\n",
    "        result.append(rand.randrange(1,7))\n",
    "        data.append(result)\n",
    "        \n",
    "    for i in range(1,10001):\n",
    "        result = []\n",
    "        result.append(rand.randrange(1,7))\n",
    "        data.append(result)\n",
    "    \n",
    "    for i in range(1,100001):\n",
    "        result = []\n",
    "        result.append(rand.randrange(1,7))\n",
    "        data.append(result)\n",
    "        \n",
    "    writer.writerows(data)\n",
    "    f.close()\n",
    "    \n",
    "    \n",
    "    \n",
    "    \n",
    "if __name__ == '__main__':\n",
    "    main() "
   ]
  },
  {
   "cell_type": "code",
   "execution_count": null,
   "id": "93b1db25",
   "metadata": {},
   "outputs": [],
   "source": []
  }
 ],
 "metadata": {
  "kernelspec": {
   "display_name": "Python 3 (ipykernel)",
   "language": "python",
   "name": "python3"
  },
  "language_info": {
   "codemirror_mode": {
    "name": "ipython",
    "version": 3
   },
   "file_extension": ".py",
   "mimetype": "text/x-python",
   "name": "python",
   "nbconvert_exporter": "python",
   "pygments_lexer": "ipython3",
   "version": "3.9.13"
  }
 },
 "nbformat": 4,
 "nbformat_minor": 5
}
